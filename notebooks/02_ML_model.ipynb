{
 "cells": [
  {
   "cell_type": "markdown",
   "metadata": {},
   "source": [
    "# **Librerías**"
   ]
  },
  {
   "cell_type": "code",
   "execution_count": 37,
   "metadata": {},
   "outputs": [],
   "source": [
    "import pandas as pd\n",
    "from sklearn.model_selection import train_test_split\n",
    "from sklearn.linear_model import LogisticRegression\n",
    "from sklearn.metrics import mean_squared_error, accuracy_score, roc_auc_score, precision_score, recall_score, f1_score, auc, brier_score_loss, matthews_corrcoef, log_loss, precision_recall_curve\n",
    "import statsmodels.api as sm"
   ]
  },
  {
   "cell_type": "markdown",
   "metadata": {},
   "source": [
    "# **Dataset**"
   ]
  },
  {
   "cell_type": "code",
   "execution_count": 3,
   "metadata": {},
   "outputs": [
    {
     "data": {
      "text/html": [
       "<div>\n",
       "<style scoped>\n",
       "    .dataframe tbody tr th:only-of-type {\n",
       "        vertical-align: middle;\n",
       "    }\n",
       "\n",
       "    .dataframe tbody tr th {\n",
       "        vertical-align: top;\n",
       "    }\n",
       "\n",
       "    .dataframe thead th {\n",
       "        text-align: right;\n",
       "    }\n",
       "</style>\n",
       "<table border=\"1\" class=\"dataframe\">\n",
       "  <thead>\n",
       "    <tr style=\"text-align: right;\">\n",
       "      <th></th>\n",
       "      <th>COMBUSTIBLE</th>\n",
       "      <th>MODELO</th>\n",
       "      <th>FECHA_REGISTRO</th>\n",
       "      <th>AÑO_REGISTRO</th>\n",
       "      <th>CLASE</th>\n",
       "      <th>MARCA</th>\n",
       "      <th>LINEA</th>\n",
       "      <th>CARROCERIA</th>\n",
       "      <th>CILINDRAJE</th>\n",
       "      <th>MODALIDAD</th>\n",
       "      <th>MUNICIPIO</th>\n",
       "      <th>DEPARTAMENTO</th>\n",
       "      <th>PESO</th>\n",
       "      <th>POTENCIA</th>\n",
       "    </tr>\n",
       "  </thead>\n",
       "  <tbody>\n",
       "    <tr>\n",
       "      <th>0</th>\n",
       "      <td>ELECTRICO</td>\n",
       "      <td>2023</td>\n",
       "      <td>10/21/2022 12:00:00 AM</td>\n",
       "      <td>2022</td>\n",
       "      <td>CAMIONETA</td>\n",
       "      <td>BYD</td>\n",
       "      <td>YUAN PRO EV</td>\n",
       "      <td>WAGON</td>\n",
       "      <td>1798.0</td>\n",
       "      <td>PASAJEROS</td>\n",
       "      <td>PEREIRA</td>\n",
       "      <td>RISARALDA</td>\n",
       "      <td>1980.0</td>\n",
       "      <td>134.0</td>\n",
       "    </tr>\n",
       "    <tr>\n",
       "      <th>1</th>\n",
       "      <td>ELECTRICO</td>\n",
       "      <td>2022</td>\n",
       "      <td>10/25/2021 12:00:00 AM</td>\n",
       "      <td>2021</td>\n",
       "      <td>CAMIONETA</td>\n",
       "      <td>BYD</td>\n",
       "      <td>SONG PRO EV</td>\n",
       "      <td>WAGON</td>\n",
       "      <td>1798.0</td>\n",
       "      <td>PASAJEROS</td>\n",
       "      <td>EL ROSAL</td>\n",
       "      <td>CUNDINAMARCA</td>\n",
       "      <td>2120.0</td>\n",
       "      <td>161.0</td>\n",
       "    </tr>\n",
       "    <tr>\n",
       "      <th>2</th>\n",
       "      <td>ELECTRICO</td>\n",
       "      <td>2023</td>\n",
       "      <td>08/03/2022 12:00:00 AM</td>\n",
       "      <td>2022</td>\n",
       "      <td>AUTOMOVIL</td>\n",
       "      <td>MINI</td>\n",
       "      <td>COOPER SE</td>\n",
       "      <td>HATCH BACK</td>\n",
       "      <td>1798.0</td>\n",
       "      <td>PASAJEROS</td>\n",
       "      <td>SABANETA</td>\n",
       "      <td>ANTIOQUIA</td>\n",
       "      <td>1440.0</td>\n",
       "      <td>184.0</td>\n",
       "    </tr>\n",
       "    <tr>\n",
       "      <th>3</th>\n",
       "      <td>ELECTRICO</td>\n",
       "      <td>2020</td>\n",
       "      <td>10/31/2019 12:00:00 AM</td>\n",
       "      <td>2019</td>\n",
       "      <td>AUTOMOVIL</td>\n",
       "      <td>BMW</td>\n",
       "      <td>I3</td>\n",
       "      <td>HATCH BACK</td>\n",
       "      <td>1798.0</td>\n",
       "      <td>PASAJEROS</td>\n",
       "      <td>BOGOTA</td>\n",
       "      <td>BOGOTA D.C.</td>\n",
       "      <td>1345.0</td>\n",
       "      <td>170.0</td>\n",
       "    </tr>\n",
       "    <tr>\n",
       "      <th>4</th>\n",
       "      <td>ELECTRICO</td>\n",
       "      <td>2022</td>\n",
       "      <td>08/27/2021 12:00:00 AM</td>\n",
       "      <td>2021</td>\n",
       "      <td>AUTOMOVIL</td>\n",
       "      <td>BYD</td>\n",
       "      <td>E1</td>\n",
       "      <td>HATCH BACK</td>\n",
       "      <td>1798.0</td>\n",
       "      <td>PASAJEROS</td>\n",
       "      <td>ENVIGADO</td>\n",
       "      <td>ANTIOQUIA</td>\n",
       "      <td>1445.0</td>\n",
       "      <td>60.0</td>\n",
       "    </tr>\n",
       "  </tbody>\n",
       "</table>\n",
       "</div>"
      ],
      "text/plain": [
       "  COMBUSTIBLE  MODELO          FECHA_REGISTRO  AÑO_REGISTRO      CLASE MARCA  \\\n",
       "0   ELECTRICO    2023  10/21/2022 12:00:00 AM          2022  CAMIONETA   BYD   \n",
       "1   ELECTRICO    2022  10/25/2021 12:00:00 AM          2021  CAMIONETA   BYD   \n",
       "2   ELECTRICO    2023  08/03/2022 12:00:00 AM          2022  AUTOMOVIL  MINI   \n",
       "3   ELECTRICO    2020  10/31/2019 12:00:00 AM          2019  AUTOMOVIL   BMW   \n",
       "4   ELECTRICO    2022  08/27/2021 12:00:00 AM          2021  AUTOMOVIL   BYD   \n",
       "\n",
       "         LINEA  CARROCERIA  CILINDRAJE  MODALIDAD MUNICIPIO  DEPARTAMENTO  \\\n",
       "0  YUAN PRO EV       WAGON      1798.0  PASAJEROS   PEREIRA     RISARALDA   \n",
       "1  SONG PRO EV       WAGON      1798.0  PASAJEROS  EL ROSAL  CUNDINAMARCA   \n",
       "2    COOPER SE  HATCH BACK      1798.0  PASAJEROS  SABANETA     ANTIOQUIA   \n",
       "3           I3  HATCH BACK      1798.0  PASAJEROS    BOGOTA   BOGOTA D.C.   \n",
       "4           E1  HATCH BACK      1798.0  PASAJEROS  ENVIGADO     ANTIOQUIA   \n",
       "\n",
       "     PESO  POTENCIA  \n",
       "0  1980.0     134.0  \n",
       "1  2120.0     161.0  \n",
       "2  1440.0     184.0  \n",
       "3  1345.0     170.0  \n",
       "4  1445.0      60.0  "
      ]
     },
     "execution_count": 3,
     "metadata": {},
     "output_type": "execute_result"
    }
   ],
   "source": [
    "df = pd.read_csv(\"../data/dataset_limpio.csv\")\n",
    "df.head()"
   ]
  },
  {
   "cell_type": "markdown",
   "metadata": {},
   "source": [
    "# **Entrenamiento de modelos**"
   ]
  },
  {
   "cell_type": "markdown",
   "metadata": {},
   "source": [
    "## **Modelo para predecir si un auto es híbrido o eléctrico**"
   ]
  },
  {
   "cell_type": "code",
   "execution_count": 4,
   "metadata": {},
   "outputs": [
    {
     "name": "stdout",
     "output_type": "stream",
     "text": [
      "HIBRIDO\n",
      "1    46076\n",
      "0     3645\n",
      "Name: count, dtype: int64\n",
      "Percentage of hybrid vehicles: 92.67%\n"
     ]
    }
   ],
   "source": [
    "df['HIBRIDO'] = df['COMBUSTIBLE'].apply(lambda x: 1 if x in ['GASO ELEC', 'DIES ELEC'] else 0)\n",
    "\n",
    "print(df['HIBRIDO'].value_counts())\n",
    "print(f\"Percentage of hybrid vehicles: {df['HIBRIDO'].mean() * 100:.2f}%\")"
   ]
  },
  {
   "cell_type": "code",
   "execution_count": 38,
   "metadata": {},
   "outputs": [
    {
     "name": "stdout",
     "output_type": "stream",
     "text": [
      "Logistic Regression Results:\n",
      "Accuracy: 0.7493212669683258\n",
      "MSE: 0.2506787330316742\n",
      "\n",
      "ROC-AUC Scores:\n",
      "Logistic Regression ROC-AUC: 0.7599941878230495\n"
     ]
    }
   ],
   "source": [
    "X = df[['POTENCIA', 'PESO', 'CILINDRAJE', 'MODELO']]\n",
    "y = df['HIBRIDO']\n",
    "\n",
    "X_train, X_test, y_train, y_test = train_test_split(X, y, test_size=0.2, random_state=42)\n",
    "\n",
    "l_model = LogisticRegression(class_weight='balanced')\n",
    "l_model.fit(X_train, y_train)\n",
    "\n",
    "\n",
    "l_pred = l_model.predict(X_test)\n",
    "l_probs = l_model.predict_proba(X_test)[:, 1]\n",
    "\n",
    "# Resultados de Regresión Logística\n",
    "print(\"Logistic Regression Results:\")\n",
    "l_accuracy = accuracy_score(y_test, l_pred)\n",
    "print(f'Accuracy: {l_accuracy}')\n",
    "l_mse = mean_squared_error(y_test, l_pred)\n",
    "print(f\"MSE: {l_mse}\")\n",
    "\n",
    "\n",
    "# ROC-AUC\n",
    "print(\"\\nROC-AUC Scores:\")\n",
    "print(f\"Logistic Regression ROC-AUC: {roc_auc_score(y_test, l_probs)}\")"
   ]
  },
  {
   "cell_type": "code",
   "execution_count": 40,
   "metadata": {},
   "outputs": [
    {
     "name": "stdout",
     "output_type": "stream",
     "text": [
      "\n",
      "Logistic Regression Metrics:\n",
      "Accuracy: 0.7493\n",
      "Precision: 0.9655\n",
      "Recall: 0.7562\n",
      "F1: 0.8481\n",
      "ROC-AUC: 0.7600\n",
      "PR-AUC: 0.9661\n",
      "Brier Score: 0.1754\n",
      "MCC: 0.2471\n",
      "Log Loss: 0.5280\n"
     ]
    }
   ],
   "source": [
    "def evaluate_model(model, X_test, y_test, name):\n",
    "    probs = model.predict_proba(X_test)[:, 1]\n",
    "    preds = model.predict(X_test)\n",
    "    \n",
    "    metrics = {\n",
    "        'Accuracy': accuracy_score(y_test, preds),\n",
    "        'Precision': precision_score(y_test, preds),\n",
    "        'Recall': recall_score(y_test, preds),\n",
    "        'F1': f1_score(y_test, preds),\n",
    "        'ROC-AUC': roc_auc_score(y_test, probs),\n",
    "        'PR-AUC': auc(*precision_recall_curve(y_test, probs)[1::-1]),\n",
    "        'Brier Score': brier_score_loss(y_test, probs),\n",
    "        'MCC': matthews_corrcoef(y_test, preds),\n",
    "        'Log Loss': log_loss(y_test, probs)\n",
    "    }\n",
    "    \n",
    "    print(f\"\\n{name} Metrics:\")\n",
    "    for k, v in metrics.items():\n",
    "        print(f\"{k}: {v:.4f}\")\n",
    "        \n",
    "    return metrics\n",
    "\n",
    "log_metrics = evaluate_model(l_model, X_test, y_test, \"Logistic Regression\")"
   ]
  },
  {
   "cell_type": "code",
   "execution_count": 41,
   "metadata": {},
   "outputs": [
    {
     "name": "stdout",
     "output_type": "stream",
     "text": [
      "                           Logit Regression Results                           \n",
      "==============================================================================\n",
      "Dep. Variable:                HIBRIDO   No. Observations:                39776\n",
      "Model:                          Logit   Df Residuals:                    39771\n",
      "Method:                           MLE   Df Model:                            4\n",
      "Date:                Wed, 02 Apr 2025   Pseudo R-squ.:                  0.2214\n",
      "Time:                        10:58:36   Log-Likelihood:                -8094.2\n",
      "converged:                       True   LL-Null:                       -10396.\n",
      "Covariance Type:            nonrobust   LLR p-value:                     0.000\n",
      "==============================================================================\n",
      "                 coef    std err          z      P>|z|      [0.025      0.975]\n",
      "------------------------------------------------------------------------------\n",
      "const      -1229.4906     30.067    -40.892      0.000   -1288.421   -1170.560\n",
      "POTENCIA      -0.0093      0.001    -17.630      0.000      -0.010      -0.008\n",
      "PESO           0.0031   8.41e-05     37.093      0.000       0.003       0.003\n",
      "CILINDRAJE     0.0005    6.2e-05      7.808      0.000       0.000       0.001\n",
      "MODELO         0.6070      0.015     40.828      0.000       0.578       0.636\n",
      "==============================================================================\n"
     ]
    }
   ],
   "source": [
    "X_train_sm = sm.add_constant(X_train)\n",
    "\n",
    "model_sm = sm.Logit(y_train, X_train_sm).fit(disp=0)\n",
    "\n",
    "print(model_sm.summary())"
   ]
  },
  {
   "cell_type": "markdown",
   "metadata": {},
   "source": [
    "Debo evaluar luego el modelo."
   ]
  },
  {
   "cell_type": "markdown",
   "metadata": {},
   "source": [
    "## **Modelo para... (continuar)**"
   ]
  }
 ],
 "metadata": {
  "kernelspec": {
   "display_name": "electric-vehicles-analysis-Z_tcRBXj-py3.12",
   "language": "python",
   "name": "python3"
  },
  "language_info": {
   "codemirror_mode": {
    "name": "ipython",
    "version": 3
   },
   "file_extension": ".py",
   "mimetype": "text/x-python",
   "name": "python",
   "nbconvert_exporter": "python",
   "pygments_lexer": "ipython3",
   "version": "3.12.5"
  }
 },
 "nbformat": 4,
 "nbformat_minor": 2
}
