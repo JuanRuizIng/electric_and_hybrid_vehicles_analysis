{
 "cells": [
  {
   "cell_type": "markdown",
   "metadata": {},
   "source": [
    "# **Librerías**"
   ]
  },
  {
   "cell_type": "code",
   "execution_count": 2,
   "metadata": {},
   "outputs": [],
   "source": [
    "import pandas as pd"
   ]
  },
  {
   "cell_type": "markdown",
   "metadata": {},
   "source": [
    "# **Dataset**"
   ]
  },
  {
   "cell_type": "code",
   "execution_count": 3,
   "metadata": {},
   "outputs": [
    {
     "data": {
      "text/html": [
       "<div>\n",
       "<style scoped>\n",
       "    .dataframe tbody tr th:only-of-type {\n",
       "        vertical-align: middle;\n",
       "    }\n",
       "\n",
       "    .dataframe tbody tr th {\n",
       "        vertical-align: top;\n",
       "    }\n",
       "\n",
       "    .dataframe thead th {\n",
       "        text-align: right;\n",
       "    }\n",
       "</style>\n",
       "<table border=\"1\" class=\"dataframe\">\n",
       "  <thead>\n",
       "    <tr style=\"text-align: right;\">\n",
       "      <th></th>\n",
       "      <th>COMBUSTIBLE</th>\n",
       "      <th>ESTADO</th>\n",
       "      <th>MODELO</th>\n",
       "      <th>FECHA_REGISTRO</th>\n",
       "      <th>AÑO_REGISTRO</th>\n",
       "      <th>CLASIFICACION</th>\n",
       "      <th>CLASE</th>\n",
       "      <th>SERVICIO</th>\n",
       "      <th>MARCA</th>\n",
       "      <th>LINEA</th>\n",
       "      <th>...</th>\n",
       "      <th>MODALIDAD</th>\n",
       "      <th>ORGANISMO_TRANSITO</th>\n",
       "      <th>MUNICIPIO</th>\n",
       "      <th>DEPARTAMENTO</th>\n",
       "      <th>CAPACIDAD_CARGA</th>\n",
       "      <th>CAPACIDAD_PASAJEROS</th>\n",
       "      <th>PESO</th>\n",
       "      <th>POTENCIA</th>\n",
       "      <th>EJES</th>\n",
       "      <th>CANTIDAD</th>\n",
       "    </tr>\n",
       "  </thead>\n",
       "  <tbody>\n",
       "    <tr>\n",
       "      <th>0</th>\n",
       "      <td>ELECTRICO</td>\n",
       "      <td>ACTIVO</td>\n",
       "      <td>2022</td>\n",
       "      <td>06/30/2022 12:00:00 AM</td>\n",
       "      <td>2022</td>\n",
       "      <td>AUTOMOVIL</td>\n",
       "      <td>BUS</td>\n",
       "      <td>Público</td>\n",
       "      <td>BYD</td>\n",
       "      <td>BC11S01</td>\n",
       "      <td>...</td>\n",
       "      <td>PASAJEROS</td>\n",
       "      <td>SDM - BOGOTA D.C.</td>\n",
       "      <td>BOGOTA</td>\n",
       "      <td>Bogota D.C.</td>\n",
       "      <td>NaN</td>\n",
       "      <td>49.0</td>\n",
       "      <td>20000.0</td>\n",
       "      <td>402.0</td>\n",
       "      <td>2.0</td>\n",
       "      <td>1</td>\n",
       "    </tr>\n",
       "    <tr>\n",
       "      <th>1</th>\n",
       "      <td>ELECTRICO</td>\n",
       "      <td>ACTIVO</td>\n",
       "      <td>2023</td>\n",
       "      <td>10/21/2022 12:00:00 AM</td>\n",
       "      <td>2022</td>\n",
       "      <td>AUTOMOVIL</td>\n",
       "      <td>CAMIONETA</td>\n",
       "      <td>Particular</td>\n",
       "      <td>BYD</td>\n",
       "      <td>YUAN PRO EV</td>\n",
       "      <td>...</td>\n",
       "      <td>NaN</td>\n",
       "      <td>INSTITUTO DE MOVILIDAD DE PEREIRA</td>\n",
       "      <td>PEREIRA</td>\n",
       "      <td>Risaralda</td>\n",
       "      <td>NaN</td>\n",
       "      <td>NaN</td>\n",
       "      <td>1980.0</td>\n",
       "      <td>134.0</td>\n",
       "      <td>2.0</td>\n",
       "      <td>1</td>\n",
       "    </tr>\n",
       "    <tr>\n",
       "      <th>2</th>\n",
       "      <td>ELECTRICO</td>\n",
       "      <td>ACTIVO</td>\n",
       "      <td>2014</td>\n",
       "      <td>09/28/2015 12:00:00 AM</td>\n",
       "      <td>2015</td>\n",
       "      <td>MOTO</td>\n",
       "      <td>MOTOCICLETA</td>\n",
       "      <td>Particular</td>\n",
       "      <td>E-MOTORI</td>\n",
       "      <td>VITA</td>\n",
       "      <td>...</td>\n",
       "      <td>NaN</td>\n",
       "      <td>STRIA TTOyTTE MCPAL FLORENCIA</td>\n",
       "      <td>FLORENCIA</td>\n",
       "      <td>Caqueta</td>\n",
       "      <td>NaN</td>\n",
       "      <td>NaN</td>\n",
       "      <td>NaN</td>\n",
       "      <td>NaN</td>\n",
       "      <td>NaN</td>\n",
       "      <td>1</td>\n",
       "    </tr>\n",
       "    <tr>\n",
       "      <th>3</th>\n",
       "      <td>ELECTRICO</td>\n",
       "      <td>ACTIVO</td>\n",
       "      <td>2021</td>\n",
       "      <td>08/10/2022 12:00:00 AM</td>\n",
       "      <td>2022</td>\n",
       "      <td>AUTOMOVIL</td>\n",
       "      <td>CAMIONETA</td>\n",
       "      <td>Público</td>\n",
       "      <td>DONGFENG</td>\n",
       "      <td>DFA5030XXYABEV7</td>\n",
       "      <td>...</td>\n",
       "      <td>CARGA</td>\n",
       "      <td>STRIA TTOyTTE MCPAL FUNZA</td>\n",
       "      <td>FUNZA</td>\n",
       "      <td>Cundinamarca</td>\n",
       "      <td>845.0</td>\n",
       "      <td>NaN</td>\n",
       "      <td>2550.0</td>\n",
       "      <td>80.0</td>\n",
       "      <td>NaN</td>\n",
       "      <td>1</td>\n",
       "    </tr>\n",
       "    <tr>\n",
       "      <th>4</th>\n",
       "      <td>ELECTRICO</td>\n",
       "      <td>ACTIVO</td>\n",
       "      <td>2022</td>\n",
       "      <td>10/25/2021 12:00:00 AM</td>\n",
       "      <td>2021</td>\n",
       "      <td>AUTOMOVIL</td>\n",
       "      <td>CAMIONETA</td>\n",
       "      <td>Particular</td>\n",
       "      <td>BYD</td>\n",
       "      <td>SONG PRO EV</td>\n",
       "      <td>...</td>\n",
       "      <td>NaN</td>\n",
       "      <td>STRIA TTEyMOV CUND/EL ROSAL</td>\n",
       "      <td>EL ROSAL</td>\n",
       "      <td>Cundinamarca</td>\n",
       "      <td>NaN</td>\n",
       "      <td>NaN</td>\n",
       "      <td>2120.0</td>\n",
       "      <td>161.0</td>\n",
       "      <td>2.0</td>\n",
       "      <td>1</td>\n",
       "    </tr>\n",
       "  </tbody>\n",
       "</table>\n",
       "<p>5 rows × 22 columns</p>\n",
       "</div>"
      ],
      "text/plain": [
       "  COMBUSTIBLE  ESTADO  MODELO          FECHA_REGISTRO  AÑO_REGISTRO  \\\n",
       "0   ELECTRICO  ACTIVO    2022  06/30/2022 12:00:00 AM          2022   \n",
       "1   ELECTRICO  ACTIVO    2023  10/21/2022 12:00:00 AM          2022   \n",
       "2   ELECTRICO  ACTIVO    2014  09/28/2015 12:00:00 AM          2015   \n",
       "3   ELECTRICO  ACTIVO    2021  08/10/2022 12:00:00 AM          2022   \n",
       "4   ELECTRICO  ACTIVO    2022  10/25/2021 12:00:00 AM          2021   \n",
       "\n",
       "  CLASIFICACION        CLASE    SERVICIO     MARCA            LINEA  ...  \\\n",
       "0     AUTOMOVIL          BUS     Público       BYD          BC11S01  ...   \n",
       "1     AUTOMOVIL    CAMIONETA  Particular       BYD      YUAN PRO EV  ...   \n",
       "2          MOTO  MOTOCICLETA  Particular  E-MOTORI             VITA  ...   \n",
       "3     AUTOMOVIL    CAMIONETA     Público  DONGFENG  DFA5030XXYABEV7  ...   \n",
       "4     AUTOMOVIL    CAMIONETA  Particular       BYD      SONG PRO EV  ...   \n",
       "\n",
       "   MODALIDAD                 ORGANISMO_TRANSITO  MUNICIPIO  DEPARTAMENTO  \\\n",
       "0  PASAJEROS                  SDM - BOGOTA D.C.     BOGOTA   Bogota D.C.   \n",
       "1        NaN  INSTITUTO DE MOVILIDAD DE PEREIRA    PEREIRA     Risaralda   \n",
       "2        NaN      STRIA TTOyTTE MCPAL FLORENCIA  FLORENCIA       Caqueta   \n",
       "3      CARGA          STRIA TTOyTTE MCPAL FUNZA      FUNZA  Cundinamarca   \n",
       "4        NaN        STRIA TTEyMOV CUND/EL ROSAL   EL ROSAL  Cundinamarca   \n",
       "\n",
       "  CAPACIDAD_CARGA CAPACIDAD_PASAJEROS     PESO  POTENCIA  EJES  CANTIDAD  \n",
       "0             NaN                49.0  20000.0     402.0   2.0         1  \n",
       "1             NaN                 NaN   1980.0     134.0   2.0         1  \n",
       "2             NaN                 NaN      NaN       NaN   NaN         1  \n",
       "3           845.0                 NaN   2550.0      80.0   NaN         1  \n",
       "4             NaN                 NaN   2120.0     161.0   2.0         1  \n",
       "\n",
       "[5 rows x 22 columns]"
      ]
     },
     "execution_count": 3,
     "metadata": {},
     "output_type": "execute_result"
    }
   ],
   "source": [
    "df = pd.read_csv('../data/Numero_de_Veh_culos_El_ctricos_-_Hibridos_20250328.csv', sep=',')\n",
    "df.head(5)"
   ]
  },
  {
   "cell_type": "code",
   "execution_count": 4,
   "metadata": {},
   "outputs": [
    {
     "name": "stdout",
     "output_type": "stream",
     "text": [
      "<class 'pandas.core.frame.DataFrame'>\n",
      "RangeIndex: 56545 entries, 0 to 56544\n",
      "Data columns (total 22 columns):\n",
      " #   Column               Non-Null Count  Dtype  \n",
      "---  ------               --------------  -----  \n",
      " 0   COMBUSTIBLE          56545 non-null  object \n",
      " 1   ESTADO               56545 non-null  object \n",
      " 2   MODELO               56545 non-null  int64  \n",
      " 3   FECHA_REGISTRO       56545 non-null  object \n",
      " 4   AÑO_REGISTRO         56545 non-null  int64  \n",
      " 5   CLASIFICACION        56545 non-null  object \n",
      " 6   CLASE                56545 non-null  object \n",
      " 7   SERVICIO             56545 non-null  object \n",
      " 8   MARCA                56545 non-null  object \n",
      " 9   LINEA                56545 non-null  object \n",
      " 10  CARROCERIA           56545 non-null  object \n",
      " 11  CILINDRAJE           53054 non-null  float64\n",
      " 12  MODALIDAD            36663 non-null  object \n",
      " 13  ORGANISMO_TRANSITO   56545 non-null  object \n",
      " 14  MUNICIPIO            56545 non-null  object \n",
      " 15  DEPARTAMENTO         56545 non-null  object \n",
      " 16  CAPACIDAD_CARGA      6220 non-null   float64\n",
      " 17  CAPACIDAD_PASAJEROS  1311 non-null   float64\n",
      " 18  PESO                 54116 non-null  float64\n",
      " 19  POTENCIA             55548 non-null  float64\n",
      " 20  EJES                 54473 non-null  float64\n",
      " 21  CANTIDAD             56545 non-null  int64  \n",
      "dtypes: float64(6), int64(3), object(13)\n",
      "memory usage: 9.5+ MB\n"
     ]
    }
   ],
   "source": [
    "df.info()"
   ]
  },
  {
   "cell_type": "markdown",
   "metadata": {},
   "source": [
    "## **Manejo de nulos,outliers, datos inconsistentes y elección de características**"
   ]
  },
  {
   "cell_type": "markdown",
   "metadata": {},
   "source": [
    "### *Elección de características*"
   ]
  },
  {
   "cell_type": "code",
   "execution_count": 5,
   "metadata": {},
   "outputs": [
    {
     "name": "stdout",
     "output_type": "stream",
     "text": [
      "<class 'pandas.core.frame.DataFrame'>\n",
      "RangeIndex: 56545 entries, 0 to 56544\n",
      "Data columns (total 22 columns):\n",
      " #   Column               Non-Null Count  Dtype  \n",
      "---  ------               --------------  -----  \n",
      " 0   COMBUSTIBLE          56545 non-null  object \n",
      " 1   ESTADO               56545 non-null  object \n",
      " 2   MODELO               56545 non-null  int64  \n",
      " 3   FECHA_REGISTRO       56545 non-null  object \n",
      " 4   AÑO_REGISTRO         56545 non-null  int64  \n",
      " 5   CLASIFICACION        56545 non-null  object \n",
      " 6   CLASE                56545 non-null  object \n",
      " 7   SERVICIO             56545 non-null  object \n",
      " 8   MARCA                56545 non-null  object \n",
      " 9   LINEA                56545 non-null  object \n",
      " 10  CARROCERIA           56545 non-null  object \n",
      " 11  CILINDRAJE           53054 non-null  float64\n",
      " 12  MODALIDAD            36663 non-null  object \n",
      " 13  ORGANISMO_TRANSITO   56545 non-null  object \n",
      " 14  MUNICIPIO            56545 non-null  object \n",
      " 15  DEPARTAMENTO         56545 non-null  object \n",
      " 16  CAPACIDAD_CARGA      6220 non-null   float64\n",
      " 17  CAPACIDAD_PASAJEROS  1311 non-null   float64\n",
      " 18  PESO                 54116 non-null  float64\n",
      " 19  POTENCIA             55548 non-null  float64\n",
      " 20  EJES                 54473 non-null  float64\n",
      " 21  CANTIDAD             56545 non-null  int64  \n",
      "dtypes: float64(6), int64(3), object(13)\n",
      "memory usage: 9.5+ MB\n"
     ]
    }
   ],
   "source": [
    "df.info()"
   ]
  },
  {
   "cell_type": "code",
   "execution_count": 15,
   "metadata": {},
   "outputs": [
    {
     "data": {
      "text/plain": [
       "CLASIFICACION\n",
       "AUTOMOVIL    54682\n",
       "MOTO          1623\n",
       "MOTOCARRO      240\n",
       "Name: count, dtype: int64"
      ]
     },
     "execution_count": 15,
     "metadata": {},
     "output_type": "execute_result"
    }
   ],
   "source": [
    "df['CLASIFICACION'].value_counts()"
   ]
  },
  {
   "cell_type": "code",
   "execution_count": 14,
   "metadata": {},
   "outputs": [
    {
     "data": {
      "text/plain": [
       "CLASE\n",
       "CAMIONETA       29565\n",
       "AUTOMOVIL       17061\n",
       "CAMPERO          4541\n",
       "BUS              1962\n",
       "MOTOCICLETA      1416\n",
       "CUADRICICLO      1016\n",
       "CAMION            530\n",
       "MOTOCARRO         240\n",
       "TRICIMOTO         188\n",
       "MOTOTRICICLO       16\n",
       "MICROBUS            6\n",
       "CUATRIMOTO          3\n",
       "TRACTOCAMION        1\n",
       "Name: count, dtype: int64"
      ]
     },
     "execution_count": 14,
     "metadata": {},
     "output_type": "execute_result"
    }
   ],
   "source": [
    "df['CLASE'].value_counts()"
   ]
  },
  {
   "cell_type": "code",
   "execution_count": 6,
   "metadata": {},
   "outputs": [
    {
     "data": {
      "text/plain": [
       "array(['ACTIVO', 'REGISTRADO'], dtype=object)"
      ]
     },
     "execution_count": 6,
     "metadata": {},
     "output_type": "execute_result"
    }
   ],
   "source": [
    "df['ESTADO'].unique()"
   ]
  },
  {
   "cell_type": "code",
   "execution_count": 7,
   "metadata": {},
   "outputs": [
    {
     "data": {
      "text/plain": [
       "COMBUSTIBLE\n",
       "GASO ELEC    45550\n",
       "ELECTRICO     9574\n",
       "DIES ELEC     1421\n",
       "Name: count, dtype: int64"
      ]
     },
     "execution_count": 7,
     "metadata": {},
     "output_type": "execute_result"
    }
   ],
   "source": [
    "df['COMBUSTIBLE'].value_counts()"
   ]
  },
  {
   "cell_type": "code",
   "execution_count": 9,
   "metadata": {},
   "outputs": [
    {
     "data": {
      "text/plain": [
       "589"
      ]
     },
     "execution_count": 9,
     "metadata": {},
     "output_type": "execute_result"
    }
   ],
   "source": [
    "df['LINEA'].nunique()"
   ]
  },
  {
   "cell_type": "code",
   "execution_count": 10,
   "metadata": {},
   "outputs": [
    {
     "data": {
      "text/plain": [
       "42"
      ]
     },
     "execution_count": 10,
     "metadata": {},
     "output_type": "execute_result"
    }
   ],
   "source": [
    "df['CARROCERIA'].nunique()"
   ]
  },
  {
   "cell_type": "code",
   "execution_count": 11,
   "metadata": {},
   "outputs": [
    {
     "data": {
      "text/plain": [
       "121"
      ]
     },
     "execution_count": 11,
     "metadata": {},
     "output_type": "execute_result"
    }
   ],
   "source": [
    "df['CILINDRAJE'].nunique()"
   ]
  },
  {
   "cell_type": "code",
   "execution_count": 12,
   "metadata": {},
   "outputs": [
    {
     "data": {
      "text/plain": [
       "MODALIDAD\n",
       "PASAJEROS    35041\n",
       "CARGA         1323\n",
       "MIXTO          299\n",
       "Name: count, dtype: int64"
      ]
     },
     "execution_count": 12,
     "metadata": {},
     "output_type": "execute_result"
    }
   ],
   "source": [
    "df['MODALIDAD'].value_counts()"
   ]
  },
  {
   "cell_type": "code",
   "execution_count": 13,
   "metadata": {},
   "outputs": [
    {
     "data": {
      "text/plain": [
       "CANTIDAD\n",
       "1    56545\n",
       "Name: count, dtype: int64"
      ]
     },
     "execution_count": 13,
     "metadata": {},
     "output_type": "execute_result"
    }
   ],
   "source": [
    "df['CANTIDAD'].value_counts()"
   ]
  },
  {
   "cell_type": "code",
   "execution_count": 16,
   "metadata": {},
   "outputs": [
    {
     "data": {
      "text/plain": [
       "272"
      ]
     },
     "execution_count": 16,
     "metadata": {},
     "output_type": "execute_result"
    }
   ],
   "source": [
    "df['PESO'].nunique()"
   ]
  },
  {
   "cell_type": "code",
   "execution_count": 18,
   "metadata": {},
   "outputs": [
    {
     "data": {
      "text/plain": [
       "EJES\n",
       "2.0     53866\n",
       "0.0       561\n",
       "3.0        36\n",
       "1.0         4\n",
       "21.0        2\n",
       "5.0         2\n",
       "4.0         2\n",
       "Name: count, dtype: int64"
      ]
     },
     "execution_count": 18,
     "metadata": {},
     "output_type": "execute_result"
    }
   ],
   "source": [
    "df['EJES'].value_counts()"
   ]
  },
  {
   "cell_type": "markdown",
   "metadata": {},
   "source": [
    "La columna 'EJES' tiene una posible incongruencia. Se debe eliminar las filas que tienen 0 ejes o realizar imputación de datos en su momento"
   ]
  },
  {
   "cell_type": "code",
   "execution_count": 17,
   "metadata": {},
   "outputs": [
    {
     "data": {
      "text/plain": [
       "206"
      ]
     },
     "execution_count": 17,
     "metadata": {},
     "output_type": "execute_result"
    }
   ],
   "source": [
    "df['POTENCIA'].nunique()"
   ]
  },
  {
   "cell_type": "markdown",
   "metadata": {},
   "source": [
    "Dada la lista anterior de la información general del dataset, se eliminan las siguientes variables que no se alinean al objetivo de la investigación:\n",
    "* CAPACIDAD_PASAJEROS: No se analiza cuantos pasajeros moviliza un vehículo, pues la investigación no se centra en si es un bus (que es por lo que está la columna en el dataset) o si es un vehículo de pasajeros. Y aún así, los datos no nulos son muy pocos. Si se intenta una imputación de datos, no se podría adivinar si un vehículo moviliza entre 1, 2 o 5 pasajeros (como se ve en el caso de distintos vehículos eléctricos e híbridos en el mercado)\n",
    "* CAPACIDAD_CARGA:  Los datos nulos son demasiados. No se puede hacer imputación de datos porque la capacidad de carga en cada vehículo no sigue una tendencia marcada en el mercado y la falta de datos no permite ver patrones marcados.\n",
    "* ESTADO: Los datos que contiene 'ESTADO' son 'REGISTRADO' y 'ACTIVO'. La intención es realizar un analisis de datos del mercado de vehículos eléctricos e híbridos en el país, por lo que sirven vehículos que estuvieron activos y también que están activos. Por lo tanto, se sabe que un vehículo 'ACTIVO' es 'REGISTRADO', y un vehículo 'REGISTRADO' alguna vez estuvo 'ACTIVO' o fue si quiera comprado para el territorio, por lo que esta columna es redundante para el objetivo de la investigación.\n",
    "* ORGANISMO_TRANSITO: Esta columna es redundante dado que ya se tienen datos de ubicación como MUNICIPIO y DEPARTAMENTO\n",
    "* CANTIDAD: Esta columna es redundante, ya que la cantidad en todas las filas es 1, que es la cantidad de vehículos registrados.\n",
    "* CLASIFICACION: Esta es una columna con visión más general que la columna 'CLASE'. Se podría aprovechar mejor la columna 'CLASE' para modelos de predicción o clasificación posiblemente más precisos en un futuro."
   ]
  },
  {
   "cell_type": "code",
   "execution_count": 20,
   "metadata": {},
   "outputs": [
    {
     "name": "stdout",
     "output_type": "stream",
     "text": [
      "<class 'pandas.core.frame.DataFrame'>\n",
      "RangeIndex: 56545 entries, 0 to 56544\n",
      "Data columns (total 16 columns):\n",
      " #   Column          Non-Null Count  Dtype  \n",
      "---  ------          --------------  -----  \n",
      " 0   COMBUSTIBLE     56545 non-null  object \n",
      " 1   MODELO          56545 non-null  int64  \n",
      " 2   FECHA_REGISTRO  56545 non-null  object \n",
      " 3   AÑO_REGISTRO    56545 non-null  int64  \n",
      " 4   CLASE           56545 non-null  object \n",
      " 5   SERVICIO        56545 non-null  object \n",
      " 6   MARCA           56545 non-null  object \n",
      " 7   LINEA           56545 non-null  object \n",
      " 8   CARROCERIA      56545 non-null  object \n",
      " 9   CILINDRAJE      53054 non-null  float64\n",
      " 10  MODALIDAD       36663 non-null  object \n",
      " 11  MUNICIPIO       56545 non-null  object \n",
      " 12  DEPARTAMENTO    56545 non-null  object \n",
      " 13  PESO            54116 non-null  float64\n",
      " 14  POTENCIA        55548 non-null  float64\n",
      " 15  EJES            54473 non-null  float64\n",
      "dtypes: float64(4), int64(2), object(10)\n",
      "memory usage: 6.9+ MB\n"
     ]
    }
   ],
   "source": [
    "df_filtered = df.drop(columns=['CAPACIDAD_PASAJEROS', 'CAPACIDAD_CARGA', 'ESTADO', 'ORGANISMO_TRANSITO', 'CANTIDAD', 'CLASIFICACION'])\n",
    "df_filtered.info()"
   ]
  }
 ],
 "metadata": {
  "kernelspec": {
   "display_name": "electric-vehicles-analysis-Z_tcRBXj-py3.12",
   "language": "python",
   "name": "python3"
  },
  "language_info": {
   "codemirror_mode": {
    "name": "ipython",
    "version": 3
   },
   "file_extension": ".py",
   "mimetype": "text/x-python",
   "name": "python",
   "nbconvert_exporter": "python",
   "pygments_lexer": "ipython3",
   "version": "3.12.5"
  }
 },
 "nbformat": 4,
 "nbformat_minor": 2
}
