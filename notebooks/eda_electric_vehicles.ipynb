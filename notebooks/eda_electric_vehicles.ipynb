{
 "cells": [
  {
   "cell_type": "markdown",
   "metadata": {},
   "source": [
    "# **Librerías**"
   ]
  },
  {
   "cell_type": "code",
   "execution_count": 1,
   "metadata": {},
   "outputs": [],
   "source": [
    "import pandas as pd\n",
    "import seaborn as sns\n",
    "import matplotlib.pyplot as plt"
   ]
  },
  {
   "cell_type": "markdown",
   "metadata": {},
   "source": [
    "# **Dataset**"
   ]
  },
  {
   "cell_type": "code",
   "execution_count": 2,
   "metadata": {},
   "outputs": [
    {
     "data": {
      "text/html": [
       "<div>\n",
       "<style scoped>\n",
       "    .dataframe tbody tr th:only-of-type {\n",
       "        vertical-align: middle;\n",
       "    }\n",
       "\n",
       "    .dataframe tbody tr th {\n",
       "        vertical-align: top;\n",
       "    }\n",
       "\n",
       "    .dataframe thead th {\n",
       "        text-align: right;\n",
       "    }\n",
       "</style>\n",
       "<table border=\"1\" class=\"dataframe\">\n",
       "  <thead>\n",
       "    <tr style=\"text-align: right;\">\n",
       "      <th></th>\n",
       "      <th>COMBUSTIBLE</th>\n",
       "      <th>ESTADO</th>\n",
       "      <th>MODELO</th>\n",
       "      <th>FECHA_REGISTRO</th>\n",
       "      <th>AÑO_REGISTRO</th>\n",
       "      <th>CLASIFICACION</th>\n",
       "      <th>CLASE</th>\n",
       "      <th>SERVICIO</th>\n",
       "      <th>MARCA</th>\n",
       "      <th>LINEA</th>\n",
       "      <th>...</th>\n",
       "      <th>MODALIDAD</th>\n",
       "      <th>ORGANISMO_TRANSITO</th>\n",
       "      <th>MUNICIPIO</th>\n",
       "      <th>DEPARTAMENTO</th>\n",
       "      <th>CAPACIDAD_CARGA</th>\n",
       "      <th>CAPACIDAD_PASAJEROS</th>\n",
       "      <th>PESO</th>\n",
       "      <th>POTENCIA</th>\n",
       "      <th>EJES</th>\n",
       "      <th>CANTIDAD</th>\n",
       "    </tr>\n",
       "  </thead>\n",
       "  <tbody>\n",
       "    <tr>\n",
       "      <th>0</th>\n",
       "      <td>ELECTRICO</td>\n",
       "      <td>ACTIVO</td>\n",
       "      <td>2022</td>\n",
       "      <td>06/30/2022 12:00:00 AM</td>\n",
       "      <td>2022</td>\n",
       "      <td>AUTOMOVIL</td>\n",
       "      <td>BUS</td>\n",
       "      <td>Público</td>\n",
       "      <td>BYD</td>\n",
       "      <td>BC11S01</td>\n",
       "      <td>...</td>\n",
       "      <td>PASAJEROS</td>\n",
       "      <td>SDM - BOGOTA D.C.</td>\n",
       "      <td>BOGOTA</td>\n",
       "      <td>Bogota D.C.</td>\n",
       "      <td>NaN</td>\n",
       "      <td>49.0</td>\n",
       "      <td>20000.0</td>\n",
       "      <td>402.0</td>\n",
       "      <td>2.0</td>\n",
       "      <td>1</td>\n",
       "    </tr>\n",
       "    <tr>\n",
       "      <th>1</th>\n",
       "      <td>ELECTRICO</td>\n",
       "      <td>ACTIVO</td>\n",
       "      <td>2023</td>\n",
       "      <td>10/21/2022 12:00:00 AM</td>\n",
       "      <td>2022</td>\n",
       "      <td>AUTOMOVIL</td>\n",
       "      <td>CAMIONETA</td>\n",
       "      <td>Particular</td>\n",
       "      <td>BYD</td>\n",
       "      <td>YUAN PRO EV</td>\n",
       "      <td>...</td>\n",
       "      <td>NaN</td>\n",
       "      <td>INSTITUTO DE MOVILIDAD DE PEREIRA</td>\n",
       "      <td>PEREIRA</td>\n",
       "      <td>Risaralda</td>\n",
       "      <td>NaN</td>\n",
       "      <td>NaN</td>\n",
       "      <td>1980.0</td>\n",
       "      <td>134.0</td>\n",
       "      <td>2.0</td>\n",
       "      <td>1</td>\n",
       "    </tr>\n",
       "    <tr>\n",
       "      <th>2</th>\n",
       "      <td>ELECTRICO</td>\n",
       "      <td>ACTIVO</td>\n",
       "      <td>2014</td>\n",
       "      <td>09/28/2015 12:00:00 AM</td>\n",
       "      <td>2015</td>\n",
       "      <td>MOTO</td>\n",
       "      <td>MOTOCICLETA</td>\n",
       "      <td>Particular</td>\n",
       "      <td>E-MOTORI</td>\n",
       "      <td>VITA</td>\n",
       "      <td>...</td>\n",
       "      <td>NaN</td>\n",
       "      <td>STRIA TTOyTTE MCPAL FLORENCIA</td>\n",
       "      <td>FLORENCIA</td>\n",
       "      <td>Caqueta</td>\n",
       "      <td>NaN</td>\n",
       "      <td>NaN</td>\n",
       "      <td>NaN</td>\n",
       "      <td>NaN</td>\n",
       "      <td>NaN</td>\n",
       "      <td>1</td>\n",
       "    </tr>\n",
       "    <tr>\n",
       "      <th>3</th>\n",
       "      <td>ELECTRICO</td>\n",
       "      <td>ACTIVO</td>\n",
       "      <td>2021</td>\n",
       "      <td>08/10/2022 12:00:00 AM</td>\n",
       "      <td>2022</td>\n",
       "      <td>AUTOMOVIL</td>\n",
       "      <td>CAMIONETA</td>\n",
       "      <td>Público</td>\n",
       "      <td>DONGFENG</td>\n",
       "      <td>DFA5030XXYABEV7</td>\n",
       "      <td>...</td>\n",
       "      <td>CARGA</td>\n",
       "      <td>STRIA TTOyTTE MCPAL FUNZA</td>\n",
       "      <td>FUNZA</td>\n",
       "      <td>Cundinamarca</td>\n",
       "      <td>845.0</td>\n",
       "      <td>NaN</td>\n",
       "      <td>2550.0</td>\n",
       "      <td>80.0</td>\n",
       "      <td>NaN</td>\n",
       "      <td>1</td>\n",
       "    </tr>\n",
       "    <tr>\n",
       "      <th>4</th>\n",
       "      <td>ELECTRICO</td>\n",
       "      <td>ACTIVO</td>\n",
       "      <td>2022</td>\n",
       "      <td>10/25/2021 12:00:00 AM</td>\n",
       "      <td>2021</td>\n",
       "      <td>AUTOMOVIL</td>\n",
       "      <td>CAMIONETA</td>\n",
       "      <td>Particular</td>\n",
       "      <td>BYD</td>\n",
       "      <td>SONG PRO EV</td>\n",
       "      <td>...</td>\n",
       "      <td>NaN</td>\n",
       "      <td>STRIA TTEyMOV CUND/EL ROSAL</td>\n",
       "      <td>EL ROSAL</td>\n",
       "      <td>Cundinamarca</td>\n",
       "      <td>NaN</td>\n",
       "      <td>NaN</td>\n",
       "      <td>2120.0</td>\n",
       "      <td>161.0</td>\n",
       "      <td>2.0</td>\n",
       "      <td>1</td>\n",
       "    </tr>\n",
       "  </tbody>\n",
       "</table>\n",
       "<p>5 rows × 22 columns</p>\n",
       "</div>"
      ],
      "text/plain": [
       "  COMBUSTIBLE  ESTADO  MODELO          FECHA_REGISTRO  AÑO_REGISTRO  \\\n",
       "0   ELECTRICO  ACTIVO    2022  06/30/2022 12:00:00 AM          2022   \n",
       "1   ELECTRICO  ACTIVO    2023  10/21/2022 12:00:00 AM          2022   \n",
       "2   ELECTRICO  ACTIVO    2014  09/28/2015 12:00:00 AM          2015   \n",
       "3   ELECTRICO  ACTIVO    2021  08/10/2022 12:00:00 AM          2022   \n",
       "4   ELECTRICO  ACTIVO    2022  10/25/2021 12:00:00 AM          2021   \n",
       "\n",
       "  CLASIFICACION        CLASE    SERVICIO     MARCA            LINEA  ...  \\\n",
       "0     AUTOMOVIL          BUS     Público       BYD          BC11S01  ...   \n",
       "1     AUTOMOVIL    CAMIONETA  Particular       BYD      YUAN PRO EV  ...   \n",
       "2          MOTO  MOTOCICLETA  Particular  E-MOTORI             VITA  ...   \n",
       "3     AUTOMOVIL    CAMIONETA     Público  DONGFENG  DFA5030XXYABEV7  ...   \n",
       "4     AUTOMOVIL    CAMIONETA  Particular       BYD      SONG PRO EV  ...   \n",
       "\n",
       "   MODALIDAD                 ORGANISMO_TRANSITO  MUNICIPIO  DEPARTAMENTO  \\\n",
       "0  PASAJEROS                  SDM - BOGOTA D.C.     BOGOTA   Bogota D.C.   \n",
       "1        NaN  INSTITUTO DE MOVILIDAD DE PEREIRA    PEREIRA     Risaralda   \n",
       "2        NaN      STRIA TTOyTTE MCPAL FLORENCIA  FLORENCIA       Caqueta   \n",
       "3      CARGA          STRIA TTOyTTE MCPAL FUNZA      FUNZA  Cundinamarca   \n",
       "4        NaN        STRIA TTEyMOV CUND/EL ROSAL   EL ROSAL  Cundinamarca   \n",
       "\n",
       "  CAPACIDAD_CARGA CAPACIDAD_PASAJEROS     PESO  POTENCIA  EJES  CANTIDAD  \n",
       "0             NaN                49.0  20000.0     402.0   2.0         1  \n",
       "1             NaN                 NaN   1980.0     134.0   2.0         1  \n",
       "2             NaN                 NaN      NaN       NaN   NaN         1  \n",
       "3           845.0                 NaN   2550.0      80.0   NaN         1  \n",
       "4             NaN                 NaN   2120.0     161.0   2.0         1  \n",
       "\n",
       "[5 rows x 22 columns]"
      ]
     },
     "execution_count": 2,
     "metadata": {},
     "output_type": "execute_result"
    }
   ],
   "source": [
    "df = pd.read_csv('../data/Numero_de_Veh_culos_El_ctricos_-_Hibridos_20250328.csv', sep=',')\n",
    "df.head(5)"
   ]
  },
  {
   "cell_type": "code",
   "execution_count": 3,
   "metadata": {},
   "outputs": [
    {
     "name": "stdout",
     "output_type": "stream",
     "text": [
      "<class 'pandas.core.frame.DataFrame'>\n",
      "RangeIndex: 56545 entries, 0 to 56544\n",
      "Data columns (total 22 columns):\n",
      " #   Column               Non-Null Count  Dtype  \n",
      "---  ------               --------------  -----  \n",
      " 0   COMBUSTIBLE          56545 non-null  object \n",
      " 1   ESTADO               56545 non-null  object \n",
      " 2   MODELO               56545 non-null  int64  \n",
      " 3   FECHA_REGISTRO       56545 non-null  object \n",
      " 4   AÑO_REGISTRO         56545 non-null  int64  \n",
      " 5   CLASIFICACION        56545 non-null  object \n",
      " 6   CLASE                56545 non-null  object \n",
      " 7   SERVICIO             56545 non-null  object \n",
      " 8   MARCA                56545 non-null  object \n",
      " 9   LINEA                56545 non-null  object \n",
      " 10  CARROCERIA           56545 non-null  object \n",
      " 11  CILINDRAJE           53054 non-null  float64\n",
      " 12  MODALIDAD            36663 non-null  object \n",
      " 13  ORGANISMO_TRANSITO   56545 non-null  object \n",
      " 14  MUNICIPIO            56545 non-null  object \n",
      " 15  DEPARTAMENTO         56545 non-null  object \n",
      " 16  CAPACIDAD_CARGA      6220 non-null   float64\n",
      " 17  CAPACIDAD_PASAJEROS  1311 non-null   float64\n",
      " 18  PESO                 54116 non-null  float64\n",
      " 19  POTENCIA             55548 non-null  float64\n",
      " 20  EJES                 54473 non-null  float64\n",
      " 21  CANTIDAD             56545 non-null  int64  \n",
      "dtypes: float64(6), int64(3), object(13)\n",
      "memory usage: 9.5+ MB\n"
     ]
    }
   ],
   "source": [
    "df.info()"
   ]
  },
  {
   "cell_type": "markdown",
   "metadata": {},
   "source": [
    "## **Manejo de nulos,outliers, datos inconsistentes y elección de características**"
   ]
  },
  {
   "cell_type": "markdown",
   "metadata": {},
   "source": [
    "### *Elección de características*"
   ]
  },
  {
   "cell_type": "code",
   "execution_count": 4,
   "metadata": {},
   "outputs": [
    {
     "name": "stdout",
     "output_type": "stream",
     "text": [
      "<class 'pandas.core.frame.DataFrame'>\n",
      "RangeIndex: 56545 entries, 0 to 56544\n",
      "Data columns (total 22 columns):\n",
      " #   Column               Non-Null Count  Dtype  \n",
      "---  ------               --------------  -----  \n",
      " 0   COMBUSTIBLE          56545 non-null  object \n",
      " 1   ESTADO               56545 non-null  object \n",
      " 2   MODELO               56545 non-null  int64  \n",
      " 3   FECHA_REGISTRO       56545 non-null  object \n",
      " 4   AÑO_REGISTRO         56545 non-null  int64  \n",
      " 5   CLASIFICACION        56545 non-null  object \n",
      " 6   CLASE                56545 non-null  object \n",
      " 7   SERVICIO             56545 non-null  object \n",
      " 8   MARCA                56545 non-null  object \n",
      " 9   LINEA                56545 non-null  object \n",
      " 10  CARROCERIA           56545 non-null  object \n",
      " 11  CILINDRAJE           53054 non-null  float64\n",
      " 12  MODALIDAD            36663 non-null  object \n",
      " 13  ORGANISMO_TRANSITO   56545 non-null  object \n",
      " 14  MUNICIPIO            56545 non-null  object \n",
      " 15  DEPARTAMENTO         56545 non-null  object \n",
      " 16  CAPACIDAD_CARGA      6220 non-null   float64\n",
      " 17  CAPACIDAD_PASAJEROS  1311 non-null   float64\n",
      " 18  PESO                 54116 non-null  float64\n",
      " 19  POTENCIA             55548 non-null  float64\n",
      " 20  EJES                 54473 non-null  float64\n",
      " 21  CANTIDAD             56545 non-null  int64  \n",
      "dtypes: float64(6), int64(3), object(13)\n",
      "memory usage: 9.5+ MB\n"
     ]
    }
   ],
   "source": [
    "df.info()"
   ]
  },
  {
   "cell_type": "code",
   "execution_count": 5,
   "metadata": {},
   "outputs": [
    {
     "data": {
      "text/plain": [
       "CLASIFICACION\n",
       "AUTOMOVIL    54682\n",
       "MOTO          1623\n",
       "MOTOCARRO      240\n",
       "Name: count, dtype: int64"
      ]
     },
     "execution_count": 5,
     "metadata": {},
     "output_type": "execute_result"
    }
   ],
   "source": [
    "df['CLASIFICACION'].value_counts()"
   ]
  },
  {
   "cell_type": "code",
   "execution_count": 6,
   "metadata": {},
   "outputs": [
    {
     "data": {
      "text/plain": [
       "CLASE\n",
       "CAMIONETA       29565\n",
       "AUTOMOVIL       17061\n",
       "CAMPERO          4541\n",
       "BUS              1962\n",
       "MOTOCICLETA      1416\n",
       "CUADRICICLO      1016\n",
       "CAMION            530\n",
       "MOTOCARRO         240\n",
       "TRICIMOTO         188\n",
       "MOTOTRICICLO       16\n",
       "MICROBUS            6\n",
       "CUATRIMOTO          3\n",
       "TRACTOCAMION        1\n",
       "Name: count, dtype: int64"
      ]
     },
     "execution_count": 6,
     "metadata": {},
     "output_type": "execute_result"
    }
   ],
   "source": [
    "df['CLASE'].value_counts()"
   ]
  },
  {
   "cell_type": "code",
   "execution_count": 7,
   "metadata": {},
   "outputs": [
    {
     "data": {
      "text/plain": [
       "array(['ACTIVO', 'REGISTRADO'], dtype=object)"
      ]
     },
     "execution_count": 7,
     "metadata": {},
     "output_type": "execute_result"
    }
   ],
   "source": [
    "df['ESTADO'].unique()"
   ]
  },
  {
   "cell_type": "code",
   "execution_count": 8,
   "metadata": {},
   "outputs": [
    {
     "data": {
      "text/plain": [
       "COMBUSTIBLE\n",
       "GASO ELEC    45550\n",
       "ELECTRICO     9574\n",
       "DIES ELEC     1421\n",
       "Name: count, dtype: int64"
      ]
     },
     "execution_count": 8,
     "metadata": {},
     "output_type": "execute_result"
    }
   ],
   "source": [
    "df['COMBUSTIBLE'].value_counts()"
   ]
  },
  {
   "cell_type": "code",
   "execution_count": 9,
   "metadata": {},
   "outputs": [
    {
     "data": {
      "text/plain": [
       "589"
      ]
     },
     "execution_count": 9,
     "metadata": {},
     "output_type": "execute_result"
    }
   ],
   "source": [
    "df['LINEA'].nunique()"
   ]
  },
  {
   "cell_type": "code",
   "execution_count": 10,
   "metadata": {},
   "outputs": [
    {
     "data": {
      "text/plain": [
       "42"
      ]
     },
     "execution_count": 10,
     "metadata": {},
     "output_type": "execute_result"
    }
   ],
   "source": [
    "df['CARROCERIA'].nunique()"
   ]
  },
  {
   "cell_type": "code",
   "execution_count": 11,
   "metadata": {},
   "outputs": [
    {
     "data": {
      "text/plain": [
       "121"
      ]
     },
     "execution_count": 11,
     "metadata": {},
     "output_type": "execute_result"
    }
   ],
   "source": [
    "df['CILINDRAJE'].nunique()"
   ]
  },
  {
   "cell_type": "code",
   "execution_count": 12,
   "metadata": {},
   "outputs": [
    {
     "data": {
      "text/plain": [
       "MODALIDAD\n",
       "PASAJEROS    35041\n",
       "CARGA         1323\n",
       "MIXTO          299\n",
       "Name: count, dtype: int64"
      ]
     },
     "execution_count": 12,
     "metadata": {},
     "output_type": "execute_result"
    }
   ],
   "source": [
    "df['MODALIDAD'].value_counts()"
   ]
  },
  {
   "cell_type": "code",
   "execution_count": 13,
   "metadata": {},
   "outputs": [
    {
     "data": {
      "text/plain": [
       "CANTIDAD\n",
       "1    56545\n",
       "Name: count, dtype: int64"
      ]
     },
     "execution_count": 13,
     "metadata": {},
     "output_type": "execute_result"
    }
   ],
   "source": [
    "df['CANTIDAD'].value_counts()"
   ]
  },
  {
   "cell_type": "code",
   "execution_count": 14,
   "metadata": {},
   "outputs": [
    {
     "data": {
      "text/plain": [
       "272"
      ]
     },
     "execution_count": 14,
     "metadata": {},
     "output_type": "execute_result"
    }
   ],
   "source": [
    "df['PESO'].nunique()"
   ]
  },
  {
   "cell_type": "code",
   "execution_count": 15,
   "metadata": {},
   "outputs": [
    {
     "data": {
      "text/plain": [
       "EJES\n",
       "2.0     53866\n",
       "0.0       561\n",
       "3.0        36\n",
       "1.0         4\n",
       "21.0        2\n",
       "5.0         2\n",
       "4.0         2\n",
       "Name: count, dtype: int64"
      ]
     },
     "execution_count": 15,
     "metadata": {},
     "output_type": "execute_result"
    }
   ],
   "source": [
    "df['EJES'].value_counts()"
   ]
  },
  {
   "cell_type": "markdown",
   "metadata": {},
   "source": [
    "La columna 'EJES' tiene una posible incongruencia. Se debe eliminar las filas que tienen 0 ejes o realizar imputación de datos en su momento"
   ]
  },
  {
   "cell_type": "code",
   "execution_count": 16,
   "metadata": {},
   "outputs": [
    {
     "data": {
      "text/plain": [
       "206"
      ]
     },
     "execution_count": 16,
     "metadata": {},
     "output_type": "execute_result"
    }
   ],
   "source": [
    "df['POTENCIA'].nunique()"
   ]
  },
  {
   "cell_type": "markdown",
   "metadata": {},
   "source": [
    "Dada la lista anterior de la información general del dataset, se eliminan las siguientes variables que no se alinean al objetivo de la investigación:\n",
    "* CAPACIDAD_PASAJEROS: No se analiza cuantos pasajeros moviliza un vehículo, pues la investigación no se centra en si es un bus (que es por lo que está la columna en el dataset) o si es un vehículo de pasajeros. Y aún así, los datos no nulos son muy pocos. Si se intenta una imputación de datos, no se podría adivinar si un vehículo moviliza entre 1, 2 o 5 pasajeros (como se ve en el caso de distintos vehículos eléctricos e híbridos en el mercado)\n",
    "* CAPACIDAD_CARGA:  Los datos nulos son demasiados. No se puede hacer imputación de datos porque la capacidad de carga en cada vehículo no sigue una tendencia marcada en el mercado y la falta de datos no permite ver patrones marcados.\n",
    "* ESTADO: Los datos que contiene 'ESTADO' son 'REGISTRADO' y 'ACTIVO'. La intención es realizar un analisis de datos del mercado de vehículos eléctricos e híbridos en el país, por lo que sirven vehículos que estuvieron activos y también que están activos. Por lo tanto, se sabe que un vehículo 'ACTIVO' es 'REGISTRADO', y un vehículo 'REGISTRADO' alguna vez estuvo 'ACTIVO' o fue si quiera comprado para el territorio, por lo que esta columna es redundante para el objetivo de la investigación.\n",
    "* ORGANISMO_TRANSITO: Esta columna es redundante dado que ya se tienen datos de ubicación como MUNICIPIO y DEPARTAMENTO\n",
    "* CANTIDAD: Esta columna es redundante, ya que la cantidad en todas las filas es 1, que es la cantidad de vehículos registrados.\n",
    "* CLASIFICACION: Esta es una columna con visión más general que la columna 'CLASE'. Se podría aprovechar mejor la columna 'CLASE' para modelos de predicción o clasificación posiblemente más precisos en un futuro."
   ]
  },
  {
   "cell_type": "code",
   "execution_count": 17,
   "metadata": {},
   "outputs": [
    {
     "name": "stdout",
     "output_type": "stream",
     "text": [
      "<class 'pandas.core.frame.DataFrame'>\n",
      "RangeIndex: 56545 entries, 0 to 56544\n",
      "Data columns (total 16 columns):\n",
      " #   Column          Non-Null Count  Dtype  \n",
      "---  ------          --------------  -----  \n",
      " 0   COMBUSTIBLE     56545 non-null  object \n",
      " 1   MODELO          56545 non-null  int64  \n",
      " 2   FECHA_REGISTRO  56545 non-null  object \n",
      " 3   AÑO_REGISTRO    56545 non-null  int64  \n",
      " 4   CLASE           56545 non-null  object \n",
      " 5   SERVICIO        56545 non-null  object \n",
      " 6   MARCA           56545 non-null  object \n",
      " 7   LINEA           56545 non-null  object \n",
      " 8   CARROCERIA      56545 non-null  object \n",
      " 9   CILINDRAJE      53054 non-null  float64\n",
      " 10  MODALIDAD       36663 non-null  object \n",
      " 11  MUNICIPIO       56545 non-null  object \n",
      " 12  DEPARTAMENTO    56545 non-null  object \n",
      " 13  PESO            54116 non-null  float64\n",
      " 14  POTENCIA        55548 non-null  float64\n",
      " 15  EJES            54473 non-null  float64\n",
      "dtypes: float64(4), int64(2), object(10)\n",
      "memory usage: 6.9+ MB\n"
     ]
    }
   ],
   "source": [
    "df_filtered = df.drop(columns=['CAPACIDAD_PASAJEROS', 'CAPACIDAD_CARGA', 'ESTADO', 'ORGANISMO_TRANSITO', 'CANTIDAD', 'CLASIFICACION'])\n",
    "df_filtered.info()"
   ]
  },
  {
   "cell_type": "markdown",
   "metadata": {},
   "source": [
    "### *Manejo de datos nulos, outliers e inconsistencias*"
   ]
  },
  {
   "cell_type": "code",
   "execution_count": 18,
   "metadata": {},
   "outputs": [
    {
     "data": {
      "text/plain": [
       "COMBUSTIBLE           0\n",
       "MODELO                0\n",
       "FECHA_REGISTRO        0\n",
       "AÑO_REGISTRO          0\n",
       "CLASE                 0\n",
       "SERVICIO              0\n",
       "MARCA                 0\n",
       "LINEA                 0\n",
       "CARROCERIA            0\n",
       "CILINDRAJE         3491\n",
       "MODALIDAD         19882\n",
       "MUNICIPIO             0\n",
       "DEPARTAMENTO          0\n",
       "PESO               2429\n",
       "POTENCIA            997\n",
       "EJES               2072\n",
       "dtype: int64"
      ]
     },
     "execution_count": 18,
     "metadata": {},
     "output_type": "execute_result"
    }
   ],
   "source": [
    "df_filtered.isnull().sum()"
   ]
  },
  {
   "cell_type": "markdown",
   "metadata": {},
   "source": [
    "Se realizará una imputación de datos sencillo teniendo en cuenta el tipo de datos y sus distribuciones."
   ]
  },
  {
   "cell_type": "code",
   "execution_count": 19,
   "metadata": {},
   "outputs": [],
   "source": [
    "moda_modalidad = df_filtered['MODALIDAD'].mode()[0]\n",
    "df_filtered['MODALIDAD'] = df_filtered['MODALIDAD'].fillna(moda_modalidad)"
   ]
  },
  {
   "cell_type": "code",
   "execution_count": 20,
   "metadata": {},
   "outputs": [
    {
     "data": {
      "text/plain": [
       "np.int64(0)"
      ]
     },
     "execution_count": 20,
     "metadata": {},
     "output_type": "execute_result"
    }
   ],
   "source": [
    "df_filtered['MODALIDAD'].isnull().sum()"
   ]
  },
  {
   "cell_type": "markdown",
   "metadata": {},
   "source": [
    "Al ser una variable cualitativa se realiza imputación de datos con la moda."
   ]
  },
  {
   "cell_type": "code",
   "execution_count": 21,
   "metadata": {},
   "outputs": [
    {
     "data": {
      "image/png": "[encoded data removed]",
      "text/plain": [
       "<Figure size 1400x800 with 1 Axes>"
      ]
     },
     "metadata": {},
     "output_type": "display_data"
    }
   ],
   "source": [
    "plt.figure(figsize=(14, 8))\n",
    "\n",
    "ax = sns.boxplot(data=df_filtered[['CILINDRAJE', 'PESO', 'POTENCIA', 'EJES']])\n",
    "\n",
    "plt.title('Boxplot de variables numéricas con datos nulos e inconsistentes', fontsize=16)\n",
    "plt.ylabel('Valor', fontsize=12)\n",
    "plt.xticks(fontsize=12)\n",
    "plt.tight_layout()\n",
    "\n",
    "plt.grid(axis='y', linestyle='--', alpha=0.7)\n",
    "\n",
    "plt.show()"
   ]
  },
  {
   "cell_type": "markdown",
   "metadata": {},
   "source": [
    "Podemos observar algunas inconsistencias en potencia, peso y cilindraje que se deben evaluar."
   ]
  },
  {
   "cell_type": "code",
   "execution_count": 22,
   "metadata": {},
   "outputs": [
    {
     "name": "stdout",
     "output_type": "stream",
     "text": [
      "     COMBUSTIBLE  MODELO          FECHA_REGISTRO  AÑO_REGISTRO        CLASE  \\\n",
      "456    ELECTRICO    2014  02/12/2014 12:00:00 AM          2014  MOTOCICLETA   \n",
      "660    ELECTRICO    2020  07/28/2021 12:00:00 AM          2021  CUADRICICLO   \n",
      "745    ELECTRICO    2020  09/29/2022 12:00:00 AM          2022  MOTOCICLETA   \n",
      "771    ELECTRICO    2019  08/25/2020 12:00:00 AM          2020  MOTOCICLETA   \n",
      "773    ELECTRICO    2021  01/21/2021 12:00:00 AM          2021    AUTOMOVIL   \n",
      "1522   ELECTRICO    2020  09/03/2021 12:00:00 AM          2021  CUADRICICLO   \n",
      "2654   ELECTRICO    2018  06/28/2018 12:00:00 AM          2018  MOTOCICLETA   \n",
      "3712   ELECTRICO    2014  02/28/2014 12:00:00 AM          2014  MOTOCICLETA   \n",
      "4941   ELECTRICO    2014  02/17/2014 12:00:00 AM          2014  MOTOCICLETA   \n",
      "5163   ELECTRICO    2017  12/05/2018 12:00:00 AM          2018    MOTOCARRO   \n",
      "6097   ELECTRICO    2014  12/30/2013 12:00:00 AM          2013  MOTOCICLETA   \n",
      "6499   ELECTRICO    2019  03/04/2022 12:00:00 AM          2022  MOTOCICLETA   \n",
      "8049   ELECTRICO    2020  09/08/2020 12:00:00 AM          2020  CUADRICICLO   \n",
      "9337   ELECTRICO    2022  02/28/2022 12:00:00 AM          2022    AUTOMOVIL   \n",
      "\n",
      "        SERVICIO                MARCA         LINEA      CARROCERIA  \\\n",
      "456   Particular        ENERGY MOTION           MJB  SIN CARROCERIA   \n",
      "660   Particular               LINZDA   M3/LZD-M3-4  SIN CARROCERIA   \n",
      "745   Particular         IONIC MOTORS           IOZ  SIN CARROCERIA   \n",
      "771   Particular              KAINING        KN-KMT  SIN CARROCERIA   \n",
      "773   Particular           GBM MOTORS       OZARU-E      HATCH BACK   \n",
      "1522  Particular               LINZDA   M3/LZD-M3-4  SIN CARROCERIA   \n",
      "2654  Particular           UNITEC USA         M-DPX  SIN CARROCERIA   \n",
      "3712  Particular        ENERGY MOTION           MJB  SIN CARROCERIA   \n",
      "4941  Particular        ENERGY MOTION           MJB  SIN CARROCERIA   \n",
      "5163  Particular                CARDA       CD-CG12            PICO   \n",
      "6097  Particular        ENERGY MOTION           MJB  SIN CARROCERIA   \n",
      "6499  Particular              KAINING        KN-KMT  SIN CARROCERIA   \n",
      "8049  Particular               LINZDA   M3/LZD-M3-4  SIN CARROCERIA   \n",
      "9337  Particular  HUATAI / GBM MOTORS  IEV230 SPACE           SEDAN   \n",
      "\n",
      "      CILINDRAJE  MODALIDAD MUNICIPIO  DEPARTAMENTO   PESO  POTENCIA  EJES  \n",
      "456          0.0  PASAJEROS    BOGOTA   Bogota D.C.    NaN    5000.0   0.0  \n",
      "660          NaN  PASAJEROS     FUNZA  Cundinamarca    NaN    4000.0   NaN  \n",
      "745          NaN  PASAJEROS  MOSQUERA  Cundinamarca    NaN    8000.0   NaN  \n",
      "771          NaN  PASAJEROS     NEIVA         Huila    NaN    4000.0   NaN  \n",
      "773          NaN  PASAJEROS    BOGOTA   Bogota D.C.    NaN    4500.0   NaN  \n",
      "1522         NaN  PASAJEROS     FUNZA  Cundinamarca    NaN    4000.0   NaN  \n",
      "2654         2.0  PASAJEROS  ENVIGADO     Antioquia    NaN    5000.0   NaN  \n",
      "3712        70.0  PASAJEROS    BOGOTA   Bogota D.C.    NaN    5000.0   0.0  \n",
      "4941         0.0  PASAJEROS    BOGOTA   Bogota D.C.    NaN    5000.0   0.0  \n",
      "5163        35.0  PASAJEROS  CAUCASIA     Antioquia  650.0    3500.0   2.0  \n",
      "6097         0.0  PASAJEROS    BOGOTA   Bogota D.C.    0.0    5000.0   0.0  \n",
      "6499         NaN  PASAJEROS  MOSQUERA  Cundinamarca    NaN    4000.0   NaN  \n",
      "8049         NaN  PASAJEROS     FUNZA  Cundinamarca    NaN    4000.0   NaN  \n",
      "9337         NaN  PASAJEROS      COTA  Cundinamarca    NaN   80000.0   NaN  \n"
     ]
    }
   ],
   "source": [
    "high_power_vehicles = df_filtered[df_filtered['POTENCIA'] > 3000]\n",
    "print(high_power_vehicles)"
   ]
  },
  {
   "cell_type": "markdown",
   "metadata": {},
   "source": [
    "El anterior vehículo no tiene tal potencia. Al ver que es particular y su modalidad es de 'PASAJEROS', imputamos la mediana para conservar ese dato. El mayor vehículo híbrido-eléctrico hasta el momento con mayor caballos de fuerza (HP) tiene 1000 HP (https://es.wikipedia.org/wiki/Ferrari_SF90_Stradale), por lo que los datos mayores a este valor, imputaremos la mediana para conservar los datos teniendo en cuenta los outliers que pueden presentarse, a los vehículos que tengan potencia mayor a 1000 HP"
   ]
  },
  {
   "cell_type": "code",
   "execution_count": 23,
   "metadata": {},
   "outputs": [
    {
     "data": {
      "text/plain": [
       "np.float64(1000.0)"
      ]
     },
     "execution_count": 23,
     "metadata": {},
     "output_type": "execute_result"
    }
   ],
   "source": [
    "# Calculate median of potencia excluding the outliers\n",
    "median_potencia = df_filtered[df_filtered['POTENCIA'] <= 75000]['POTENCIA'].median()\n",
    "\n",
    "df_filtered.loc[df_filtered['POTENCIA'] > 1000, 'POTENCIA'] = median_potencia\n",
    "\n",
    "df_filtered['POTENCIA'].max()"
   ]
  },
  {
   "cell_type": "code",
   "execution_count": 24,
   "metadata": {},
   "outputs": [
    {
     "data": {
      "text/plain": [
       "POTENCIA\n",
       "126.0    13476\n",
       "88.0      5075\n",
       "153.0     4404\n",
       "176.0     3152\n",
       "200.0     2775\n",
       "         ...  \n",
       "330.0        1\n",
       "112.0        1\n",
       "285.0        1\n",
       "650.0        1\n",
       "829.0        1\n",
       "Name: count, Length: 190, dtype: int64"
      ]
     },
     "execution_count": 24,
     "metadata": {},
     "output_type": "execute_result"
    }
   ],
   "source": [
    "df_filtered['POTENCIA'].value_counts()"
   ]
  },
  {
   "cell_type": "markdown",
   "metadata": {},
   "source": [
    "En cuanto a peso:"
   ]
  },
  {
   "cell_type": "code",
   "execution_count": 25,
   "metadata": {},
   "outputs": [
    {
     "name": "stdout",
     "output_type": "stream",
     "text": [
      "      COMBUSTIBLE  MODELO          FECHA_REGISTRO  AÑO_REGISTRO   CLASE  \\\n",
      "0       ELECTRICO    2022  06/30/2022 12:00:00 AM          2022     BUS   \n",
      "14      ELECTRICO    2022  07/14/2022 12:00:00 AM          2022     BUS   \n",
      "16      ELECTRICO    2022  03/14/2022 12:00:00 AM          2022     BUS   \n",
      "31      ELECTRICO    2022  03/12/2022 12:00:00 AM          2022     BUS   \n",
      "40      ELECTRICO    2022  07/05/2022 12:00:00 AM          2022     BUS   \n",
      "...           ...     ...                     ...           ...     ...   \n",
      "51239   DIES ELEC    2020  05/12/2020 12:00:00 AM          2020  CAMION   \n",
      "52034   DIES ELEC    2020  03/19/2020 12:00:00 AM          2020  CAMION   \n",
      "52035   DIES ELEC    2020  06/02/2020 12:00:00 AM          2020  CAMION   \n",
      "52036   DIES ELEC    2020  12/30/2020 12:00:00 AM          2020  CAMION   \n",
      "55028   DIES ELEC    2023  08/03/2022 12:00:00 AM          2022  CAMION   \n",
      "\n",
      "      SERVICIO MARCA           LINEA CARROCERIA  CILINDRAJE  MODALIDAD  \\\n",
      "0      Público   BYD         BC11S01    CERRADA         NaN  PASAJEROS   \n",
      "14     Público   BYD         BC11S01    CERRADA         NaN  PASAJEROS   \n",
      "16     Público   BYD         BC89S01    CERRADA         NaN  PASAJEROS   \n",
      "31     Público   BYD         BC11S01    CERRADA         NaN  PASAJEROS   \n",
      "40     Público   BYD         BC89S01    CERRADA         NaN  PASAJEROS   \n",
      "...        ...   ...             ...        ...         ...        ...   \n",
      "51239  Público  HINO  XKU710L-HKURP3     FURGON      4009.0      CARGA   \n",
      "52034  Público  HINO  XKU710L-HKURP3     FURGON      4009.0      CARGA   \n",
      "52035  Público  HINO  XKU710L-HKURP3    ESTACAS      4009.0      CARGA   \n",
      "52036  Público  HINO  XKU710L-HKURP3     FURGON      4009.0      CARGA   \n",
      "55028  Público  HINO  XKU710L-HKURP3     FURGON      4009.0      CARGA   \n",
      "\n",
      "      MUNICIPIO  DEPARTAMENTO     PESO  POTENCIA  EJES  \n",
      "0        BOGOTA   Bogota D.C.  20000.0     402.0   2.0  \n",
      "14       BOGOTA   Bogota D.C.  20000.0     402.0   2.0  \n",
      "16       BOGOTA   Bogota D.C.  14500.0     268.0   2.0  \n",
      "31       BOGOTA   Bogota D.C.  20000.0     402.0   2.0  \n",
      "40       BOGOTA   Bogota D.C.  14500.0     268.0   2.0  \n",
      "...         ...           ...      ...       ...   ...  \n",
      "51239  SABANETA     Antioquia   7500.0     150.0   2.0  \n",
      "52034  ENVIGADO     Antioquia   7500.0     150.0   2.0  \n",
      "52035  ENVIGADO     Antioquia   7500.0     150.0   2.0  \n",
      "52036      COTA  Cundinamarca   7500.0     150.0   2.0  \n",
      "55028      CHIA  Cundinamarca   7500.0     150.0   2.0  \n",
      "\n",
      "[2450 rows x 16 columns]\n",
      "2450\n",
      "SERVICIO\n",
      "Público       2428\n",
      "Particular      15\n",
      "Oficial          7\n",
      "Name: count, dtype: int64\n"
     ]
    }
   ],
   "source": [
    "high_weight_vehicles = df_filtered[df_filtered['PESO'] > 4000]\n",
    "print(high_weight_vehicles)\n",
    "print(len(high_weight_vehicles))\n",
    "print(high_weight_vehicles['SERVICIO'].value_counts())"
   ]
  },
  {
   "cell_type": "markdown",
   "metadata": {},
   "source": [
    "Si bien los vehículos dada su función pueden tener dicho peso, se quitarán estos datos para aumentar la precisión de un posible modelo. Solamente se mantendrán datos menores a 4.000 kg de peso, pues en su mayoría son para servicio particular, lo que podría aumentar la precision del modelo."
   ]
  },
  {
   "cell_type": "code",
   "execution_count": 26,
   "metadata": {},
   "outputs": [
    {
     "data": {
      "text/plain": [
       "np.float64(3960.0)"
      ]
     },
     "execution_count": 26,
     "metadata": {},
     "output_type": "execute_result"
    }
   ],
   "source": [
    "df_filtered = df_filtered[df_filtered['PESO'] < 4000]\n",
    "df_filtered['PESO'].max()"
   ]
  },
  {
   "cell_type": "code",
   "execution_count": 27,
   "metadata": {},
   "outputs": [
    {
     "name": "stdout",
     "output_type": "stream",
     "text": [
      "<class 'pandas.core.frame.DataFrame'>\n",
      "Index: 51603 entries, 1 to 56544\n",
      "Data columns (total 16 columns):\n",
      " #   Column          Non-Null Count  Dtype  \n",
      "---  ------          --------------  -----  \n",
      " 0   COMBUSTIBLE     51603 non-null  object \n",
      " 1   MODELO          51603 non-null  int64  \n",
      " 2   FECHA_REGISTRO  51603 non-null  object \n",
      " 3   AÑO_REGISTRO    51603 non-null  int64  \n",
      " 4   CLASE           51603 non-null  object \n",
      " 5   SERVICIO        51603 non-null  object \n",
      " 6   MARCA           51603 non-null  object \n",
      " 7   LINEA           51603 non-null  object \n",
      " 8   CARROCERIA      51603 non-null  object \n",
      " 9   CILINDRAJE      50830 non-null  float64\n",
      " 10  MODALIDAD       51603 non-null  object \n",
      " 11  MUNICIPIO       51603 non-null  object \n",
      " 12  DEPARTAMENTO    51603 non-null  object \n",
      " 13  PESO            51603 non-null  float64\n",
      " 14  POTENCIA        51456 non-null  float64\n",
      " 15  EJES            51424 non-null  float64\n",
      "dtypes: float64(4), int64(2), object(10)\n",
      "memory usage: 6.7+ MB\n"
     ]
    }
   ],
   "source": [
    "df_filtered.info()"
   ]
  },
  {
   "cell_type": "markdown",
   "metadata": {},
   "source": [
    "El cilindraje más fuerte en litros (L) es de 106 litros de desplazamiento (Caterpillar 797F) (https://www.eluniversal.com.mx/autopistas/los-5-motores-de-autos-mas-grandes-de-la-historia/?utm_source=chatgpt.com). Si bien es exagerado más de esto, vamos a conservar aquellos datos que sean menores a 4000 L para no tener efectos significativos en la investigación, pues a partir de este rango la mayoría de vehículos son publicos."
   ]
  },
  {
   "cell_type": "code",
   "execution_count": 28,
   "metadata": {},
   "outputs": [
    {
     "name": "stdout",
     "output_type": "stream",
     "text": [
      "      COMBUSTIBLE  MODELO          FECHA_REGISTRO  AÑO_REGISTRO      CLASE  \\\n",
      "17064   GASO ELEC    2011  04/19/2011 12:00:00 AM          2011  CAMIONETA   \n",
      "21196   GASO ELEC    2011  05/24/2012 12:00:00 AM          2012  CAMIONETA   \n",
      "21197   GASO ELEC    2011  01/02/2012 12:00:00 AM          2012  CAMIONETA   \n",
      "44737   GASO ELEC    2011  02/09/2011 12:00:00 AM          2011  CAMIONETA   \n",
      "54288   GASO ELEC    2021  02/03/2022 12:00:00 AM          2022  CAMIONETA   \n",
      "\n",
      "         SERVICIO      MARCA      LINEA    CARROCERIA  CILINDRAJE  MODALIDAD  \\\n",
      "17064  Particular  CHEVROLET  SILVERADO  DOBLE CABINA      5967.0      MIXTO   \n",
      "21196  Particular  CHEVROLET  SILVERADO  DOBLE CABINA      5967.0      MIXTO   \n",
      "21197  Particular  CHEVROLET  SILVERADO  DOBLE CABINA      5967.0  PASAJEROS   \n",
      "44737  Particular  CHEVROLET  SILVERADO  DOBLE CABINA      5967.0      MIXTO   \n",
      "54288  Particular        RAM       1500  DOBLE CABINA      5700.0      MIXTO   \n",
      "\n",
      "          MUNICIPIO DEPARTAMENTO    PESO  POTENCIA  EJES  \n",
      "17064        BOGOTA  Bogota D.C.  3221.0     332.0   2.0  \n",
      "21196        BOGOTA  Bogota D.C.  3221.0     332.0   2.0  \n",
      "21197      SABANETA    Antioquia  3221.0     332.0   2.0  \n",
      "44737        BOGOTA  Bogota D.C.  3221.0     332.0   2.0  \n",
      "54288  BARRANQUILLA    Atlantico  3130.0     305.0   2.0  \n",
      "5\n",
      "SERVICIO\n",
      "Particular    5\n",
      "Name: count, dtype: int64\n"
     ]
    }
   ],
   "source": [
    "high_cylinder_vehicles = df_filtered[df_filtered['CILINDRAJE'] > 4000]\n",
    "print(high_cylinder_vehicles)\n",
    "print(len(high_cylinder_vehicles))\n",
    "print(high_cylinder_vehicles['SERVICIO'].value_counts())"
   ]
  },
  {
   "cell_type": "code",
   "execution_count": 29,
   "metadata": {},
   "outputs": [
    {
     "data": {
      "text/plain": [
       "np.float64(3996.0)"
      ]
     },
     "execution_count": 29,
     "metadata": {},
     "output_type": "execute_result"
    }
   ],
   "source": [
    "df_filtered = df_filtered[df_filtered['CILINDRAJE'] < 4000]\n",
    "df_filtered['CILINDRAJE'].max()"
   ]
  },
  {
   "cell_type": "code",
   "execution_count": 30,
   "metadata": {},
   "outputs": [
    {
     "data": {
      "text/plain": [
       "COMBUSTIBLE         0\n",
       "MODELO              0\n",
       "FECHA_REGISTRO      0\n",
       "AÑO_REGISTRO        0\n",
       "CLASE               0\n",
       "SERVICIO            0\n",
       "MARCA               0\n",
       "LINEA               0\n",
       "CARROCERIA          0\n",
       "CILINDRAJE          0\n",
       "MODALIDAD           0\n",
       "MUNICIPIO           0\n",
       "DEPARTAMENTO        0\n",
       "PESO                0\n",
       "POTENCIA          128\n",
       "EJES               78\n",
       "dtype: int64"
      ]
     },
     "execution_count": 30,
     "metadata": {},
     "output_type": "execute_result"
    }
   ],
   "source": [
    "df_filtered.isnull().sum()"
   ]
  },
  {
   "cell_type": "code",
   "execution_count": 31,
   "metadata": {},
   "outputs": [
    {
     "data": {
      "image/png": "[encoded data removed]",
      "text/plain": [
       "<Figure size 1400x800 with 1 Axes>"
      ]
     },
     "metadata": {},
     "output_type": "display_data"
    }
   ],
   "source": [
    "plt.figure(figsize=(14, 8))\n",
    "\n",
    "ax = sns.boxplot(data=df_filtered[['CILINDRAJE', 'PESO', 'POTENCIA', 'EJES']])\n",
    "\n",
    "plt.title('Boxplot de variables numéricas con datos nulos', fontsize=16)\n",
    "plt.ylabel('Valor', fontsize=12)\n",
    "plt.xticks(fontsize=12)\n",
    "plt.tight_layout()\n",
    "\n",
    "plt.grid(axis='y', linestyle='--', alpha=0.7)\n",
    "\n",
    "plt.show()"
   ]
  },
  {
   "cell_type": "markdown",
   "metadata": {},
   "source": [
    "Se eliminan los datos nulos debido al bajo nivel que hay de estos."
   ]
  },
  {
   "cell_type": "code",
   "execution_count": 32,
   "metadata": {},
   "outputs": [
    {
     "data": {
      "text/plain": [
       "COMBUSTIBLE       0\n",
       "MODELO            0\n",
       "FECHA_REGISTRO    0\n",
       "AÑO_REGISTRO      0\n",
       "CLASE             0\n",
       "SERVICIO          0\n",
       "MARCA             0\n",
       "LINEA             0\n",
       "CARROCERIA        0\n",
       "CILINDRAJE        0\n",
       "MODALIDAD         0\n",
       "MUNICIPIO         0\n",
       "DEPARTAMENTO      0\n",
       "PESO              0\n",
       "POTENCIA          0\n",
       "EJES              0\n",
       "dtype: int64"
      ]
     },
     "execution_count": 32,
     "metadata": {},
     "output_type": "execute_result"
    }
   ],
   "source": [
    "df_filtered = df_filtered.dropna()\n",
    "df_filtered.isnull().sum()"
   ]
  },
  {
   "cell_type": "markdown",
   "metadata": {},
   "source": [
    "# **Analisis general**"
   ]
  },
  {
   "cell_type": "code",
   "execution_count": 33,
   "metadata": {},
   "outputs": [
    {
     "name": "stdout",
     "output_type": "stream",
     "text": [
      "<class 'pandas.core.frame.DataFrame'>\n",
      "Index: 50672 entries, 1 to 56544\n",
      "Data columns (total 16 columns):\n",
      " #   Column          Non-Null Count  Dtype  \n",
      "---  ------          --------------  -----  \n",
      " 0   COMBUSTIBLE     50672 non-null  object \n",
      " 1   MODELO          50672 non-null  int64  \n",
      " 2   FECHA_REGISTRO  50672 non-null  object \n",
      " 3   AÑO_REGISTRO    50672 non-null  int64  \n",
      " 4   CLASE           50672 non-null  object \n",
      " 5   SERVICIO        50672 non-null  object \n",
      " 6   MARCA           50672 non-null  object \n",
      " 7   LINEA           50672 non-null  object \n",
      " 8   CARROCERIA      50672 non-null  object \n",
      " 9   CILINDRAJE      50672 non-null  float64\n",
      " 10  MODALIDAD       50672 non-null  object \n",
      " 11  MUNICIPIO       50672 non-null  object \n",
      " 12  DEPARTAMENTO    50672 non-null  object \n",
      " 13  PESO            50672 non-null  float64\n",
      " 14  POTENCIA        50672 non-null  float64\n",
      " 15  EJES            50672 non-null  float64\n",
      "dtypes: float64(4), int64(2), object(10)\n",
      "memory usage: 6.6+ MB\n"
     ]
    }
   ],
   "source": [
    "df_filtered.info()"
   ]
  }
 ],
 "metadata": {
  "kernelspec": {
   "display_name": "electric-vehicles-analysis-Z_tcRBXj-py3.12",
   "language": "python",
   "name": "python3"
  },
  "language_info": {
   "codemirror_mode": {
    "name": "ipython",
    "version": 3
   },
   "file_extension": ".py",
   "mimetype": "text/x-python",
   "name": "python",
   "nbconvert_exporter": "python",
   "pygments_lexer": "ipython3",
   "version": "3.12.5"
  }
 },
 "nbformat": 4,
 "nbformat_minor": 2
}
